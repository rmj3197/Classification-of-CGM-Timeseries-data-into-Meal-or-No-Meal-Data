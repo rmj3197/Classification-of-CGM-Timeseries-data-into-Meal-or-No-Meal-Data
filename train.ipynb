{
 "cells": [
  {
   "cell_type": "markdown",
   "metadata": {},
   "source": [
    "# Classification-of-CGM-Timeseries-data-into-Meal-or-No-Meal-Data"
   ]
  },
  {
   "cell_type": "code",
   "execution_count": 32,
   "metadata": {},
   "outputs": [],
   "source": [
    "import pandas as pd\n",
    "import csv\n",
    "import numpy as np\n",
    "from collections import Counter \n",
    "import warnings\n",
    "warnings.filterwarnings('ignore')\n",
    "import io"
   ]
  },
  {
   "cell_type": "code",
   "execution_count": 33,
   "metadata": {},
   "outputs": [],
   "source": [
    "from scipy.fftpack import fft, ifft\n",
    "def fft_and_peaks(df):\n",
    "        \n",
    "    fft_val=[]\n",
    "    fft_val.append(abs(fft(df)))\n",
    "        \n",
    "    peak_val=[]\n",
    "    for z in range(len(fft_val)):\n",
    "        a = list(set(fft_val[z]))\n",
    "        a.sort()\n",
    "        a = a[::-1][1:5]\n",
    "        peak_val.append(a)\n",
    "    return(fft_val,peak_val)"
   ]
  },
  {
   "cell_type": "code",
   "execution_count": 34,
   "metadata": {},
   "outputs": [],
   "source": [
    "def velocity(data):\n",
    "    \n",
    "    data = data.reset_index().drop(columns = 'index').T\n",
    "    mean = []\n",
    "    std =[]\n",
    "    median =[]\n",
    "    \n",
    "    interval = 10\n",
    "    for k in range(len(data)):\n",
    "        window_size = 5\n",
    "        velocity = []\n",
    "        row_data = data.iloc[k].values\n",
    "        row_length = len(row_data)\n",
    "        counter = 0\n",
    "        cgmvel = []\n",
    "        for i in range((len(row_data) - window_size)):\n",
    "            cgmvel.append(counter)\n",
    "            counter += 5\n",
    "            p = (row_data[i] - row_data[i + window_size])\n",
    "            vel = p / interval\n",
    "            velocity.append(vel)\n",
    "        mean.append(np.mean(velocity))\n",
    "        std.append(np.std(velocity))\n",
    "        median.append(np.median(velocity))\n",
    "        \n",
    "    df = list(zip(mean, std, median))[0]\n",
    "    return df"
   ]
  },
  {
   "cell_type": "code",
   "execution_count": 35,
   "metadata": {},
   "outputs": [],
   "source": [
    "def autocorrelation(df):\n",
    "        \n",
    "    autocorr_lag_2=[]\n",
    "    autocorr_lag_3=[]\n",
    "    autocorr_lag_4=[]\n",
    "    autocorr_lag_5=[]\n",
    "    autocorr_lag_6=[]\n",
    "    autocorr_lag_7=[]\n",
    "    autocorr_lag_8=[]\n",
    "    autocorr_lag_9=[]\n",
    "    autocorr_lag_10=[]\n",
    "    autocorr_lag_11=[]\n",
    "    autocorr_lag_12=[]\n",
    "    autocorr_lag_13=[]\n",
    "    autocorr_lag_14=[]\n",
    "\n",
    "    auto_corr_2= df.autocorr(lag=2)\n",
    "    autocorr_lag_2.append(auto_corr_2)\n",
    "\n",
    "    auto_corr_3= df.autocorr(lag=3)\n",
    "    autocorr_lag_3.append(auto_corr_3)\n",
    "\n",
    "    auto_corr_4= df.autocorr(lag=4)\n",
    "    autocorr_lag_4.append(auto_corr_4)\n",
    "\n",
    "    auto_corr_5= df.autocorr(lag=5)\n",
    "    autocorr_lag_5.append(auto_corr_5)\n",
    "\n",
    "    auto_corr_6= df.autocorr(lag=6)\n",
    "    autocorr_lag_6.append(auto_corr_6)\n",
    "\n",
    "    auto_corr_7= df.autocorr(lag=7)\n",
    "    autocorr_lag_7.append(auto_corr_7)\n",
    "\n",
    "    auto_corr_8= df.autocorr(lag=8)\n",
    "    autocorr_lag_8.append(auto_corr_8)\n",
    "\n",
    "    auto_corr_9= df.autocorr(lag=9)\n",
    "    autocorr_lag_9.append(auto_corr_9)\n",
    "\n",
    "    auto_corr_10=df.autocorr(lag=10)\n",
    "    autocorr_lag_10.append(auto_corr_10)\n",
    "\n",
    "    auto_corr_11= df.autocorr(lag=11)\n",
    "    autocorr_lag_11.append(auto_corr_11)\n",
    "\n",
    "    auto_corr_12= df.autocorr(lag=12)\n",
    "    autocorr_lag_12.append(auto_corr_12)\n",
    "\n",
    "    auto_corr_13= df.autocorr(lag=13)\n",
    "    autocorr_lag_13.append(auto_corr_13)\n",
    "\n",
    "    auto_corr_14= df.autocorr(lag=14)\n",
    "    autocorr_lag_14.append(auto_corr_14)\n",
    "\n",
    "    df1 = list(zip(autocorr_lag_2, autocorr_lag_3,autocorr_lag_4,autocorr_lag_5,autocorr_lag_6,autocorr_lag_7,autocorr_lag_8,autocorr_lag_9,autocorr_lag_10,autocorr_lag_11,autocorr_lag_12,autocorr_lag_13,autocorr_lag_14))[0]\n",
    "    return (df1)"
   ]
  },
  {
   "cell_type": "code",
   "execution_count": 36,
   "metadata": {},
   "outputs": [],
   "source": [
    "def polyfit_coeffs(df):\n",
    "    coeff_list = []\n",
    "    y = df.to_numpy()\n",
    "    time = np.linspace(1,df.shape[0],df.shape[0])\n",
    "    coeff = np.polyfit(time,y,6)\n",
    "    coeff_list.append(coeff)\n",
    "    df1 = coeff_list[0]\n",
    "    return df1"
   ]
  },
  {
   "cell_type": "code",
   "execution_count": 37,
   "metadata": {},
   "outputs": [],
   "source": [
    "def psd(df):\n",
    "    import scipy.signal as signal\n",
    "    max_amp=[]\n",
    "    std_amp=[]\n",
    "    mean_amp=[]\n",
    "    \n",
    "    df = df.reset_index().drop(columns = 'index').T\n",
    "    \n",
    "    for k in range(len(df)):\n",
    "        v, welch_values  = np.array((signal.welch(df.iloc[k].values)))\n",
    "        max_amp.append(np.sqrt(max(welch_values)))\n",
    "        std_amp.append(np.std(np.sqrt(welch_values)))\n",
    "        mean_amp.append(np.mean(np.sqrt(welch_values)))\n",
    "        \n",
    "    df1 = list(zip(max_amp, std_amp, mean_amp))[0]\n",
    "    return df1\n",
    "   "
   ]
  },
  {
   "cell_type": "code",
   "execution_count": 38,
   "metadata": {},
   "outputs": [],
   "source": [
    "def file_read(filename):\n",
    "    f = open(filename)\n",
    "    csv_f = csv.reader(f)\n",
    "\n",
    "    data = []\n",
    "\n",
    "    for row in csv_f:\n",
    "        data.append(row)\n",
    "    return data"
   ]
  },
  {
   "cell_type": "code",
   "execution_count": 39,
   "metadata": {},
   "outputs": [],
   "source": [
    "def calculate_features(data):   \n",
    "    fft_peak_val =[]\n",
    "    cgm_vel = []\n",
    "    auto_corr=[]\n",
    "    polyfit_coeff=[]\n",
    "    psd_val = []\n",
    "\n",
    "\n",
    "    for i in range(len(data)):\n",
    "        intermediate = pd.DataFrame(data[i]).reset_index().drop(columns = 'index')\n",
    "        each_row = pd.to_numeric(intermediate[0],errors='coerce').interpolate().dropna()\n",
    "\n",
    "        if (len(each_row)!=0):\n",
    "            x,y = fft_and_peaks(each_row)\n",
    "            fft_peak_val.append(y[0])\n",
    "\n",
    "            v = velocity(each_row)\n",
    "            cgm_vel.append(v)\n",
    "\n",
    "            acr = autocorrelation(each_row)\n",
    "            auto_corr.append(acr)\n",
    "\n",
    "            p = polyfit_coeffs(each_row)\n",
    "            polyfit_coeff.append(p)\n",
    "\n",
    "            psd1 = psd(each_row)\n",
    "            psd_val.append(psd1)\n",
    "        else:\n",
    "            pass\n",
    "    \n",
    "    peak_val = pd.DataFrame(list(fft_peak_val),columns = ['Peak 2','Peak 3','Peak 4','Peak 5'])\n",
    "    cgm_vel_val = pd.DataFrame(cgm_vel,columns=['vel_Mean','vel_STD','vel_Median'])\n",
    "    autocorr_val = pd.DataFrame(auto_corr,columns=['autocorr_lag_2', 'autocorr_lag_3','autocorr_lag_4','autocorr_lag_5','autocorr_lag_6','autocorr_lag_7','autocorr_lag_8','autocorr_lag_9','autocorr_lag_10','autocorr_lag_11','autocorr_lag_12','autocorr_lag_13','autocorr_lag_14']) \n",
    "    polyfit_val = pd.DataFrame(polyfit_coeff,columns=['coeff1','coeff2','coeff3','coeff4','coeff5','coeff6','coeff7'])\n",
    "    psd_val = pd.DataFrame(psd_val,columns =['max amplitude', 'std amplitude','mean amplitude'])\n",
    "    \n",
    "    dataset = pd.concat([peak_val,cgm_vel_val,autocorr_val,polyfit_val,psd_val],axis=1).fillna(0)\n",
    "    return(dataset)"
   ]
  },
  {
   "cell_type": "markdown",
   "metadata": {},
   "source": [
    "# Reading Meal Data and Calculating the features"
   ]
  },
  {
   "cell_type": "code",
   "execution_count": 40,
   "metadata": {},
   "outputs": [],
   "source": [
    "meal_pat1 = file_read('mealData1.csv')\n",
    "features_meal_pat1 = calculate_features(meal_pat1)"
   ]
  },
  {
   "cell_type": "code",
   "execution_count": 41,
   "metadata": {},
   "outputs": [],
   "source": [
    "meal_pat2 = file_read('mealData2.csv')\n",
    "features_meal_pat2 = calculate_features(meal_pat2)"
   ]
  },
  {
   "cell_type": "code",
   "execution_count": 42,
   "metadata": {},
   "outputs": [],
   "source": [
    "meal_pat3 = file_read('mealData3.csv')\n",
    "features_meal_pat3 = calculate_features(meal_pat3)"
   ]
  },
  {
   "cell_type": "code",
   "execution_count": 43,
   "metadata": {},
   "outputs": [],
   "source": [
    "meal_pat4 = file_read('mealData4.csv')\n",
    "features_meal_pat4 = calculate_features(meal_pat4)"
   ]
  },
  {
   "cell_type": "code",
   "execution_count": 44,
   "metadata": {},
   "outputs": [],
   "source": [
    "meal_pat5 = file_read('mealData5.csv')\n",
    "features_meal_pat5 = calculate_features(meal_pat5)"
   ]
  },
  {
   "cell_type": "code",
   "execution_count": 45,
   "metadata": {},
   "outputs": [],
   "source": [
    "meal_data = pd.concat([features_meal_pat1,features_meal_pat2,features_meal_pat3,features_meal_pat4,features_meal_pat5],axis=0)"
   ]
  },
  {
   "cell_type": "code",
   "execution_count": 46,
   "metadata": {},
   "outputs": [],
   "source": [
    "meal_data['Label']=1"
   ]
  },
  {
   "cell_type": "markdown",
   "metadata": {},
   "source": [
    "# Reading Non-Meal Data and Calculating the features"
   ]
  },
  {
   "cell_type": "code",
   "execution_count": 47,
   "metadata": {},
   "outputs": [],
   "source": [
    "nomeal_pat1 = file_read('Nomeal1.csv')\n",
    "features_nomeal_pat1 = calculate_features(nomeal_pat1)"
   ]
  },
  {
   "cell_type": "code",
   "execution_count": 48,
   "metadata": {},
   "outputs": [],
   "source": [
    "nomeal_pat2 = file_read('Nomeal2.csv')\n",
    "features_nomeal_pat2 = calculate_features(nomeal_pat2)"
   ]
  },
  {
   "cell_type": "code",
   "execution_count": 49,
   "metadata": {},
   "outputs": [],
   "source": [
    "nomeal_pat3 = file_read('Nomeal3.csv')\n",
    "features_nomeal_pat3 = calculate_features(nomeal_pat3)"
   ]
  },
  {
   "cell_type": "code",
   "execution_count": 50,
   "metadata": {},
   "outputs": [],
   "source": [
    "nomeal_pat4 = file_read('Nomeal4.csv')\n",
    "features_nomeal_pat4= calculate_features(nomeal_pat2)"
   ]
  },
  {
   "cell_type": "code",
   "execution_count": 51,
   "metadata": {},
   "outputs": [],
   "source": [
    "nomeal_pat5 = file_read('Nomeal5.csv')\n",
    "features_nomeal_pat5 = calculate_features(nomeal_pat5)"
   ]
  },
  {
   "cell_type": "code",
   "execution_count": 52,
   "metadata": {},
   "outputs": [],
   "source": [
    "nomeal_data = pd.concat([features_nomeal_pat1,features_nomeal_pat2,features_nomeal_pat3,features_nomeal_pat4,features_nomeal_pat5],axis=0)"
   ]
  },
  {
   "cell_type": "code",
   "execution_count": 53,
   "metadata": {},
   "outputs": [],
   "source": [
    "nomeal_data['Label']=0"
   ]
  },
  {
   "cell_type": "markdown",
   "metadata": {},
   "source": [
    "# Combining Meal and No Meal Data"
   ]
  },
  {
   "cell_type": "code",
   "execution_count": 54,
   "metadata": {},
   "outputs": [],
   "source": [
    "from sklearn.utils import shuffle\n",
    "dataset = shuffle(pd.concat([meal_data,nomeal_data],axis=0).fillna(0)).reset_index().drop(columns = ['index'])"
   ]
  },
  {
   "cell_type": "markdown",
   "metadata": {},
   "source": [
    "# PCA"
   ]
  },
  {
   "cell_type": "code",
   "execution_count": 55,
   "metadata": {},
   "outputs": [],
   "source": [
    "from sklearn.decomposition import PCA\n",
    "from sklearn.preprocessing import StandardScaler\n",
    "from scipy import stats\n",
    "feature_matrix = StandardScaler().fit_transform(dataset.drop(columns= ['Label']))\n",
    "pca = PCA(n_components=5)\n",
    "principalComponents = pca.fit_transform(feature_matrix)\n",
    "principalDf = pd.DataFrame(data = principalComponents, columns = ['principal component 1', 'principal component 2','principal component 3','principal component 4','principal component 5'])"
   ]
  },
  {
   "cell_type": "markdown",
   "metadata": {},
   "source": [
    "# K-Fold Cross Validation"
   ]
  },
  {
   "cell_type": "code",
   "execution_count": 56,
   "metadata": {},
   "outputs": [],
   "source": [
    "principalDf['Label'] = dataset['Label']"
   ]
  },
  {
   "cell_type": "code",
   "execution_count": 57,
   "metadata": {},
   "outputs": [],
   "source": [
    "principalDfData = principalDf.drop(columns = ['Label'])"
   ]
  },
  {
   "cell_type": "code",
   "execution_count": 58,
   "metadata": {},
   "outputs": [],
   "source": [
    "def get_score(model, X_train,X_test,y_train,y_test):\n",
    "    model.fit(X_train,y_train)\n",
    "    return model.score(X_test,y_test)"
   ]
  },
  {
   "cell_type": "code",
   "execution_count": 59,
   "metadata": {},
   "outputs": [],
   "source": [
    "from sklearn.ensemble import RandomForestClassifier\n",
    "import lightgbm as lgb\n",
    "from xgboost import XGBClassifier\n",
    "scores_rf = []\n",
    "\n",
    "from sklearn.model_selection import KFold\n",
    "kfold = KFold(n_splits=10,shuffle=False)\n",
    "for train_index, test_index in kfold.split(principalDfData):\n",
    "    X_train,X_test,y_train,y_test = principalDfData.loc[train_index],principalDfData.loc[test_index],\\\n",
    "    principalDf.Label.loc[train_index],principalDf.Label.loc[test_index]\n",
    "    scores_rf.append(get_score(RandomForestClassifier(criterion=\"entropy\"), X_train, X_test, y_train, y_test))"
   ]
  },
  {
   "cell_type": "code",
   "execution_count": 60,
   "metadata": {},
   "outputs": [
    {
     "name": "stdout",
     "output_type": "stream",
     "text": [
      "0.6979591836734693\n"
     ]
    }
   ],
   "source": [
    "print(np.mean(scores_rf))"
   ]
  },
  {
   "cell_type": "markdown",
   "metadata": {},
   "source": [
    "# Pickling the Model"
   ]
  },
  {
   "cell_type": "code",
   "execution_count": 61,
   "metadata": {},
   "outputs": [
    {
     "data": {
      "text/plain": [
       "RandomForestClassifier(bootstrap=True, ccp_alpha=0.0, class_weight=None,\n",
       "                       criterion='gini', max_depth=None, max_features='auto',\n",
       "                       max_leaf_nodes=None, max_samples=None,\n",
       "                       min_impurity_decrease=0.0, min_impurity_split=None,\n",
       "                       min_samples_leaf=1, min_samples_split=2,\n",
       "                       min_weight_fraction_leaf=0.0, n_estimators=100,\n",
       "                       n_jobs=None, oob_score=False, random_state=None,\n",
       "                       verbose=0, warm_start=False)"
      ]
     },
     "execution_count": 61,
     "metadata": {},
     "output_type": "execute_result"
    }
   ],
   "source": [
    "from sklearn.ensemble import RandomForestClassifier\n",
    "clf = RandomForestClassifier()\n",
    "X, y= principalDfData, principalDf['Label']\n",
    "clf.fit(X,y)"
   ]
  },
  {
   "cell_type": "code",
   "execution_count": 62,
   "metadata": {},
   "outputs": [
    {
     "data": {
      "text/plain": [
       "['RandomForestClassifier.pickle']"
      ]
     },
     "execution_count": 62,
     "metadata": {},
     "output_type": "execute_result"
    }
   ],
   "source": [
    "from joblib import dump, load\n",
    "dump(clf, 'RandomForestClassifier.pickle')"
   ]
  }
 ],
 "metadata": {
  "kernelspec": {
   "display_name": "Python 3",
   "language": "python",
   "name": "python3"
  },
  "language_info": {
   "codemirror_mode": {
    "name": "ipython",
    "version": 3
   },
   "file_extension": ".py",
   "mimetype": "text/x-python",
   "name": "python",
   "nbconvert_exporter": "python",
   "pygments_lexer": "ipython3",
   "version": "3.7.3"
  }
 },
 "nbformat": 4,
 "nbformat_minor": 2
}
