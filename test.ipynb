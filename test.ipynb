{
 "cells": [
  {
   "cell_type": "markdown",
   "metadata": {},
   "source": [
    "# Reading the files (CHANGE THE NAME OF THE FILE HERE)"
   ]
  },
  {
   "cell_type": "code",
   "execution_count": 13,
   "metadata": {},
   "outputs": [],
   "source": [
    "import csv\n",
    "f = open('TestData.csv')\n",
    "csv_f = csv.reader(f)\n",
    "\n",
    "data = []\n",
    "\n",
    "for row in csv_f:\n",
    "    data.append(row)"
   ]
  },
  {
   "cell_type": "markdown",
   "metadata": {},
   "source": [
    "# Defining all the feature functions"
   ]
  },
  {
   "cell_type": "code",
   "execution_count": 14,
   "metadata": {},
   "outputs": [],
   "source": [
    "import pandas as pd\n",
    "import csv\n",
    "import numpy as np\n",
    "from collections import Counter \n",
    "import warnings\n",
    "warnings.filterwarnings('ignore')\n",
    "import io"
   ]
  },
  {
   "cell_type": "code",
   "execution_count": 15,
   "metadata": {},
   "outputs": [],
   "source": [
    "from scipy.fftpack import fft, ifft\n",
    "def fft_and_peaks(df):\n",
    "        \n",
    "    fft_val=[]\n",
    "    fft_val.append(abs(fft(df)))\n",
    "        \n",
    "    peak_val=[]\n",
    "    for z in range(len(fft_val)):\n",
    "        a = list(set(fft_val[z]))\n",
    "        a.sort()\n",
    "        a = a[::-1][1:5]\n",
    "        peak_val.append(a)\n",
    "    return(fft_val,peak_val)"
   ]
  },
  {
   "cell_type": "code",
   "execution_count": 16,
   "metadata": {},
   "outputs": [],
   "source": [
    "def autocorrelation(df):\n",
    "        \n",
    "    autocorr_lag_2=[]\n",
    "    autocorr_lag_3=[]\n",
    "    autocorr_lag_4=[]\n",
    "    autocorr_lag_5=[]\n",
    "    autocorr_lag_6=[]\n",
    "    autocorr_lag_7=[]\n",
    "    autocorr_lag_8=[]\n",
    "    autocorr_lag_9=[]\n",
    "    autocorr_lag_10=[]\n",
    "    autocorr_lag_11=[]\n",
    "    autocorr_lag_12=[]\n",
    "    autocorr_lag_13=[]\n",
    "    autocorr_lag_14=[]\n",
    "\n",
    "    auto_corr_2= df.autocorr(lag=2)\n",
    "    autocorr_lag_2.append(auto_corr_2)\n",
    "\n",
    "    auto_corr_3= df.autocorr(lag=3)\n",
    "    autocorr_lag_3.append(auto_corr_3)\n",
    "\n",
    "    auto_corr_4= df.autocorr(lag=4)\n",
    "    autocorr_lag_4.append(auto_corr_4)\n",
    "\n",
    "    auto_corr_5= df.autocorr(lag=5)\n",
    "    autocorr_lag_5.append(auto_corr_5)\n",
    "\n",
    "    auto_corr_6= df.autocorr(lag=6)\n",
    "    autocorr_lag_6.append(auto_corr_6)\n",
    "\n",
    "    auto_corr_7= df.autocorr(lag=7)\n",
    "    autocorr_lag_7.append(auto_corr_7)\n",
    "\n",
    "    auto_corr_8= df.autocorr(lag=8)\n",
    "    autocorr_lag_8.append(auto_corr_8)\n",
    "\n",
    "    auto_corr_9= df.autocorr(lag=9)\n",
    "    autocorr_lag_9.append(auto_corr_9)\n",
    "\n",
    "    auto_corr_10=df.autocorr(lag=10)\n",
    "    autocorr_lag_10.append(auto_corr_10)\n",
    "\n",
    "    auto_corr_11= df.autocorr(lag=11)\n",
    "    autocorr_lag_11.append(auto_corr_11)\n",
    "\n",
    "    auto_corr_12= df.autocorr(lag=12)\n",
    "    autocorr_lag_12.append(auto_corr_12)\n",
    "\n",
    "    auto_corr_13= df.autocorr(lag=13)\n",
    "    autocorr_lag_13.append(auto_corr_13)\n",
    "\n",
    "    auto_corr_14= df.autocorr(lag=14)\n",
    "    autocorr_lag_14.append(auto_corr_14)\n",
    "\n",
    "    df1 = list(zip(autocorr_lag_2, autocorr_lag_3,autocorr_lag_4,autocorr_lag_5,autocorr_lag_6,autocorr_lag_7,autocorr_lag_8,autocorr_lag_9,autocorr_lag_10,autocorr_lag_11,autocorr_lag_12,autocorr_lag_13,autocorr_lag_14))[0]\n",
    "    return (df1)"
   ]
  },
  {
   "cell_type": "code",
   "execution_count": 17,
   "metadata": {},
   "outputs": [],
   "source": [
    "def polyfit_coeffs(df):\n",
    "    coeff_list = []\n",
    "    y = df.to_numpy()\n",
    "    time = np.linspace(1,df.shape[0],df.shape[0])\n",
    "    coeff = np.polyfit(time,y,6)\n",
    "    coeff_list.append(coeff)\n",
    "    df1 = coeff_list[0]\n",
    "    return df1"
   ]
  },
  {
   "cell_type": "code",
   "execution_count": 18,
   "metadata": {},
   "outputs": [],
   "source": [
    "def velocity(data):\n",
    "    \n",
    "    data = data.reset_index().drop(columns = 'index').T\n",
    "    mean = []\n",
    "    std =[]\n",
    "    median =[]\n",
    "    \n",
    "    interval = 10\n",
    "    for k in range(len(data)):\n",
    "        window_size = 5\n",
    "        velocity = []\n",
    "        row_data = data.iloc[k].values\n",
    "        row_length = len(row_data)\n",
    "        counter = 0\n",
    "        cgmvel = []\n",
    "        for i in range((len(row_data) - window_size)):\n",
    "            cgmvel.append(counter)\n",
    "            counter += 5\n",
    "            p = (row_data[i] - row_data[i + window_size])\n",
    "            vel = p / interval\n",
    "            velocity.append(vel)\n",
    "        mean.append(np.mean(velocity))\n",
    "        std.append(np.std(velocity))\n",
    "        median.append(np.median(velocity))\n",
    "        \n",
    "    df = list(zip(mean, std, median))[0]\n",
    "    return df"
   ]
  },
  {
   "cell_type": "code",
   "execution_count": 19,
   "metadata": {},
   "outputs": [],
   "source": [
    "def psd(df):\n",
    "    import scipy.signal as signal\n",
    "    max_amp=[]\n",
    "    std_amp=[]\n",
    "    mean_amp=[]\n",
    "    \n",
    "    df = df.reset_index().drop(columns = 'index').T\n",
    "    \n",
    "    for k in range(len(df)):\n",
    "        v, welch_values  = np.array((signal.welch(df.iloc[k].values)))\n",
    "        max_amp.append(np.sqrt(max(welch_values)))\n",
    "        std_amp.append(np.std(np.sqrt(welch_values)))\n",
    "        mean_amp.append(np.mean(np.sqrt(welch_values)))\n",
    "        \n",
    "    df1 = list(zip(max_amp, std_amp, mean_amp))[0]\n",
    "    return df1\n",
    "   "
   ]
  },
  {
   "cell_type": "markdown",
   "metadata": {},
   "source": [
    "# Calculating Features"
   ]
  },
  {
   "cell_type": "code",
   "execution_count": 20,
   "metadata": {},
   "outputs": [],
   "source": [
    "fft_peak_val =[]\n",
    "cgm_vel = []\n",
    "auto_corr=[]\n",
    "polyfit_coeff=[]\n",
    "psd_val = []\n",
    "\n",
    "\n",
    "for i in range(len(data)):\n",
    "    intermediate = pd.DataFrame(data[i]).reset_index().drop(columns = 'index')\n",
    "    each_row = pd.to_numeric(intermediate[0],errors='coerce').interpolate().dropna()\n",
    "    \n",
    "    \n",
    "    if (len(each_row)!=0):\n",
    "        x,y = fft_and_peaks(each_row)\n",
    "        fft_peak_val.append(y[0])\n",
    "\n",
    "        v = velocity(each_row)\n",
    "        cgm_vel.append(v)\n",
    "\n",
    "        acr = autocorrelation(each_row)\n",
    "        auto_corr.append(acr)\n",
    "\n",
    "        p = polyfit_coeffs(each_row)\n",
    "        polyfit_coeff.append(p)\n",
    "\n",
    "        psd1 = psd(each_row)\n",
    "        psd_val.append(psd1)\n",
    "    else:\n",
    "        pass"
   ]
  },
  {
   "cell_type": "markdown",
   "metadata": {},
   "source": [
    "# Generating the Dataset"
   ]
  },
  {
   "cell_type": "code",
   "execution_count": 21,
   "metadata": {},
   "outputs": [],
   "source": [
    "peak_val = pd.DataFrame(list(fft_peak_val),columns = ['Peak 2','Peak 3','Peak 4','Peak 5'])\n",
    "cgm_vel_val = pd.DataFrame(cgm_vel,columns=['vel_Mean','vel_STD','vel_Median'])\n",
    "autocorr_val = pd.DataFrame(auto_corr,columns=['autocorr_lag_2', 'autocorr_lag_3','autocorr_lag_4','autocorr_lag_5','autocorr_lag_6','autocorr_lag_7','autocorr_lag_8','autocorr_lag_9','autocorr_lag_10','autocorr_lag_11','autocorr_lag_12','autocorr_lag_13','autocorr_lag_14']) \n",
    "polyfit_val = pd.DataFrame(polyfit_coeff,columns=['coeff1','coeff2','coeff3','coeff4','coeff5','coeff6','coeff7'])\n",
    "psd_val = pd.DataFrame(psd_val,columns =['max amplitude', 'std amplitude','mean amplitude'])"
   ]
  },
  {
   "cell_type": "code",
   "execution_count": 22,
   "metadata": {},
   "outputs": [],
   "source": [
    "dataset = pd.concat([peak_val,cgm_vel_val,autocorr_val,polyfit_val,psd_val],axis=1).fillna(0)"
   ]
  },
  {
   "cell_type": "markdown",
   "metadata": {},
   "source": [
    "# PCA"
   ]
  },
  {
   "cell_type": "code",
   "execution_count": 23,
   "metadata": {},
   "outputs": [],
   "source": [
    "from sklearn.decomposition import PCA\n",
    "from sklearn.preprocessing import StandardScaler\n",
    "from scipy import stats\n",
    "feature_matrix = StandardScaler().fit_transform(dataset)\n",
    "pca = PCA(n_components=5)\n",
    "principalComponents = pca.fit_transform(feature_matrix)\n",
    "principalDf = pd.DataFrame(data = principalComponents, columns = ['principal component 1', 'principal component 2','principal component 3','principal component 4','principal component 5'])"
   ]
  },
  {
   "cell_type": "markdown",
   "metadata": {},
   "source": [
    "# Prediction using Pre-Trained Pickle file"
   ]
  },
  {
   "cell_type": "code",
   "execution_count": 24,
   "metadata": {},
   "outputs": [
    {
     "name": "stdout",
     "output_type": "stream",
     "text": [
      "Prediction - \n",
      "[1 0 1 1 1 0 0 1 0 1 1 1 0 1 0 0 0 1 1 0 0 0 0 1 1 0 1 1 1 1 0 0 1 1 1 1 0\n",
      " 0 0 1 1 1 0 1 1 1 0 1 1 1 1 0 0 0 1 1 1 0 1 1 1 1 1 0 0 1 1 1 0 0 0 1 0 0\n",
      " 0 0 1 0 1 0 0]\n"
     ]
    }
   ],
   "source": [
    "from joblib import dump, load\n",
    "with open('RandomForestClassifier.pickle', 'rb') as pre_trained:\n",
    "    pickle_file = load(pre_trained)\n",
    "    predict = pickle_file.predict(principalDf)    \n",
    "    pre_trained.close()\n",
    "    print('Prediction - ')\n",
    "    print (predict)"
   ]
  },
  {
   "cell_type": "code",
   "execution_count": 25,
   "metadata": {},
   "outputs": [],
   "source": [
    "principalDf['RF'] = predict"
   ]
  },
  {
   "cell_type": "code",
   "execution_count": 26,
   "metadata": {},
   "outputs": [],
   "source": [
    "from sklearn.cluster import KMeans\n",
    "kmeans = KMeans(n_clusters= 2 , random_state=42).fit(principalDf)\n",
    "principalDf['KMeans'] = kmeans.labels_"
   ]
  },
  {
   "cell_type": "code",
   "execution_count": 28,
   "metadata": {},
   "outputs": [],
   "source": [
    "c = 0\n",
    "for i in range(len(principalDf)):\n",
    "    if (principalDf['RF'].iloc[i]== principalDf['KMeans'].iloc[i]):\n",
    "        c= c +1"
   ]
  },
  {
   "cell_type": "code",
   "execution_count": 29,
   "metadata": {},
   "outputs": [
    {
     "data": {
      "text/plain": [
       "55"
      ]
     },
     "execution_count": 29,
     "metadata": {},
     "output_type": "execute_result"
    }
   ],
   "source": [
    "c"
   ]
  },
  {
   "cell_type": "code",
   "execution_count": 30,
   "metadata": {},
   "outputs": [],
   "source": [
    "prediction = pd.DataFrame(predict)"
   ]
  },
  {
   "cell_type": "code",
   "execution_count": 32,
   "metadata": {},
   "outputs": [],
   "source": [
    "prediction.to_csv('prediction_labels.csv')"
   ]
  },
  {
   "cell_type": "code",
   "execution_count": null,
   "metadata": {},
   "outputs": [],
   "source": []
  }
 ],
 "metadata": {
  "kernelspec": {
   "display_name": "Python 3",
   "language": "python",
   "name": "python3"
  },
  "language_info": {
   "codemirror_mode": {
    "name": "ipython",
    "version": 3
   },
   "file_extension": ".py",
   "mimetype": "text/x-python",
   "name": "python",
   "nbconvert_exporter": "python",
   "pygments_lexer": "ipython3",
   "version": "3.7.3"
  }
 },
 "nbformat": 4,
 "nbformat_minor": 2
}
